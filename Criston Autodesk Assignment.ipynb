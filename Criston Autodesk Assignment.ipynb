{
 "cells": [
  {
   "cell_type": "markdown",
   "id": "7fe694cc",
   "metadata": {},
   "source": [
    "# Question 1\n",
    "\n",
    "Reverse String\n"
   ]
  },
  {
   "cell_type": "code",
   "execution_count": null,
   "id": "c543ef4d",
   "metadata": {},
   "outputs": [],
   "source": [
    "def solution(s:str)->str:\n",
    "    ans = []\n",
    "    word = []\n",
    "    \n",
    "    def word_joiner(word:list)->str: #helper function\n",
    "        return \"\".join(word[::-1])\n",
    "    \n",
    "    for each in s:\n",
    "        if each.isalnum():\n",
    "            word.append(each)\n",
    "        else:\n",
    "            if word:\n",
    "                ans.append(word_joiner(word))\n",
    "                word = []\n",
    "            ans.append(each)\n",
    "    \n",
    "    if word:\n",
    "        ans.append(word_joiner(word))\n",
    "    \n",
    "    return \"\".join(ans)"
   ]
  },
  {
   "cell_type": "code",
   "execution_count": 16,
   "id": "2b67b155",
   "metadata": {},
   "outputs": [
    {
     "name": "stdout",
     "output_type": "stream",
     "text": [
      "gnirtS; eb2 desrever...\n"
     ]
    }
   ],
   "source": [
    "print(solution(\"String; 2be reversed...\"))"
   ]
  },
  {
   "cell_type": "markdown",
   "id": "01972277",
   "metadata": {},
   "source": [
    "Time Complexity: O(N)\n",
    "\n",
    "Space Complexity: O(N)\n",
    "\n",
    "Explanation: For loop through each char in string, we have a variable word which stores each word in s, with the words endpoint being a non-alnum character / end of stirng. word_joiner reverses the word and adds it to ans, or adds a non-alnum character if there. At the end, ans is joined from the list and returned as solution."
   ]
  },
  {
   "cell_type": "markdown",
   "id": "602664a9",
   "metadata": {},
   "source": [
    "# Question 2"
   ]
  },
  {
   "cell_type": "code",
   "execution_count": null,
   "id": "9702236c",
   "metadata": {},
   "outputs": [],
   "source": [
    "import os\n",
    "import re\n",
    "from pathlib import Path\n",
    "\n",
    "def update_file(file_path: str,\n",
    "                original_name: str,\n",
    "                replacement_name: str):\n",
    "    # Updates build version number in 2 locations (file in SConstruct and file in VERSION)\n",
    "    #This is the helper function\n",
    "    \n",
    "    if not file_path.exists():\n",
    "        raise FileNotFoundError(f\"File not found: {file_path}\")\n",
    "    \n",
    "    updated_lines = []\n",
    "    \n",
    "    with file_path.open(\"r\") as f:\n",
    "        for line in f:\n",
    "            updated_line = re.sub(original_name,replacement_name,line)\n",
    "            updated_lines.append(updated_line)\n",
    "    \n",
    "    with file_path.open(\"w\") as f:\n",
    "        f.writelines(updated_lines)\n",
    "        \n",
    "\n",
    "def main():\n",
    "    #Main Function used to update version number within 2 different files\n",
    "    #Reads environment variables and source path accordingly\n",
    "    \n",
    "    build_number = os.environ.get(\"BuildNum\")\n",
    "    \n",
    "    if not build_number:\n",
    "        raise EnvironmentError(\"Missing Environment Variable: Build Number\")\n",
    "    \n",
    "    #assume current cd\n",
    "    path = Path(\"..\") / \"develop\" / \"global\" / \"src\"\n",
    "    \n",
    "    #Updating SConstruct\n",
    "    update_file(\n",
    "    path / \"SConstruct\",\n",
    "    r\"point=\\d+\",\n",
    "    f\"point={build_number}\"\n",
    "    )\n",
    "    \n",
    "    #Updating VERSION\n",
    "    update_file(\n",
    "    path / \"VERSION\",\n",
    "    r\"ADLMSDK_VERSION_POINT=\\d+\",\n",
    "    f\"ADLMSDK_VERSION_POINT={build_number}\"\n",
    "    )\n",
    "    \n",
    "    print(\"Version numbers in SConstruct and VERSION updated successfully.\")"
   ]
  },
  {
   "cell_type": "code",
   "execution_count": null,
   "id": "db0e639a",
   "metadata": {},
   "outputs": [],
   "source": []
  }
 ],
 "metadata": {
  "kernelspec": {
   "display_name": "base",
   "language": "python",
   "name": "python3"
  },
  "language_info": {
   "codemirror_mode": {
    "name": "ipython",
    "version": 3
   },
   "file_extension": ".py",
   "mimetype": "text/x-python",
   "name": "python",
   "nbconvert_exporter": "python",
   "pygments_lexer": "ipython3",
   "version": "3.9.21"
  }
 },
 "nbformat": 4,
 "nbformat_minor": 5
}
